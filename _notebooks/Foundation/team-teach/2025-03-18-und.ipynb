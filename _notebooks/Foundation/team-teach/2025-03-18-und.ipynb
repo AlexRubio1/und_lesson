{
 "cells": [
  {
   "cell_type": "markdown",
   "metadata": {},
   "source": [
    "---\n",
    "layout: post\n",
    "title: Undecidable Problems\n",
    "description: Lesson for Undecidable Problems\n",
    "courses: { csp: {week:1} }\n",
    "menu: nav/lessons.html\n",
    "permalink: /lesson/3-3\n",
    "comments: true\n",
    "---"
   ]
  },
  {
   "cell_type": "markdown",
   "metadata": {},
   "source": [
    "---\n",
    "layout: post\n",
    "title: Undecidable Problems\n",
    "description: Lesson for Undecidable Problems\n",
    "courses: {'csp': {'week:1': None}}\n",
    "menu: nav/lessons.html\n",
    "permalink: /lesson/3-3\n",
    "comments: True\n",
    "---\n",
    "\n",
    "\n",
    "<h1 style=\"color: #C71585;\">Teaching Undecidable Problems</h1>\n",
    "\n",
    "## Undecidable Problems:\n",
    "\n",
    "As college board explained it, **Undecidable Problems** is one for which no algorithm can be constructed that is always capable of providing a correct yes or no answer. This means that an algorithm **cannot provide an outputs** for given inputs. \n",
    "In the **CSP** curriculum, a undecideabl problems has some key features:\n",
    "- Most importantly, an algorithm becomes undecidable even if some instances have a solution, but not **all** solutions have one\n",
    "- Conceptually, undecidability demonstrates the inherent limits of what algorithms can achieve. \n",
    "\n",
    "A **decidable problem** is a decision problem for wich an algorithm can be writen to produce a correct output for all inputs(eg.”Is the number even?”) This is different from an undecidable problem which may have an algorithim that works, but it can never fully work, and there are always instances in wich that is the case to make a problem undecidable. \n",
    "\n",
    "**The Halting Problem**\n",
    "College Board exemplified undecidable problems through the Halting Problem. This program takes an input and will either eventually stop (halt) or run forever. This program cannot exist beacuse it would create an impossible scenario. This was proven by Alan Turing, and it shows that some problems can never be solved by an algorithm, no matter how powerful computers become.\n",
    "There is no way to test for the ending, if there is no ending.\n",
    "\n",
    "\n",
    "**Analogy**\n",
    " Real-Life Analogy: The Halting Problem\n",
    "Imagine trying to predict if a friend will ever stop talking during a conversation.\n",
    "\n",
    "You know that sometimes they talk a lot… but what if they never stop?\n",
    "- You can't interrupt.\n",
    "- You can't fast forward.\n",
    "- You can only listen and hope they eventually stop.\n",
    "\n",
    "Now imagine you're given a recording of your friend talking, and you're asked before hitting play:\n",
    "“Will this person stop talking at some point, or will they talk forever?”\n",
    "\n",
    "There’s no way to know for sure without actually listening all the way through, which defeats the purpose of predicting it beforehand.\n",
    "You'll never have a yes/no answer. \n",
    "\n",
    "**Another example** of this problem is shown here:\n"
   ]
  },
  {
   "cell_type": "code",
   "execution_count": null,
   "metadata": {},
   "outputs": [
    {
     "ename": "SyntaxError",
     "evalue": "invalid character '←' (U+2190) (2652962370.py, line 1)",
     "output_type": "error",
     "traceback": [
      "\u001b[0;36m  Cell \u001b[0;32mIn[5], line 1\u001b[0;36m\u001b[0m\n\u001b[0;31m    num ← 10\u001b[0m\n\u001b[0m        ^\u001b[0m\n\u001b[0;31mSyntaxError\u001b[0m\u001b[0;31m:\u001b[0m invalid character '←' (U+2190)\n"
     ]
    }
   ],
   "source": [
    "num = 10\n",
    "\n",
    "while num != 0:\n",
    "    print(num)\n",
    "    num -= 1"
   ]
  },
  {
   "cell_type": "code",
   "execution_count": null,
   "metadata": {},
   "outputs": [],
   "source": [
    "num = 1\n",
    "\n",
    "while num != 0:\n",
    "    print(num)\n",
    "    num += 1"
   ]
  },
  {
   "cell_type": "markdown",
   "metadata": {},
   "source": [
    "**Popcorn Hack #1**: Explain why there is an undecidable problem above.\n",
    "\n",
    "\n",
    "**Pilot City**\n",
    "We can potentially find undecidable problems in our Pilot City project where we would find our website or program taking too long to load. It may never load or even just take a long time, but your computer would eventually just stop running the program. \n",
    "\n",
    "\n",
    "**Decidable example**"
   ]
  },
  {
   "cell_type": "code",
   "execution_count": null,
   "metadata": {},
   "outputs": [],
   "source": [
    "def divisibleByThree(num):\n",
    "    if num MOD 3 == 0:\n",
    "        return True\n",
    "    else:\n",
    "        return False"
   ]
  },
  {
   "cell_type": "markdown",
   "metadata": {},
   "source": [
    "This determines if a number is divisible by 3.\n",
    "This example is decidable because we know that the algorithm would always provide a corrcet output. \n",
    "\n",
    "\n",
    "**Complexity**\n",
    "- Undecidable problems have been proven to have no algorithm that works for all cases using current models of computation. \n",
    "- However we are always developing new technology and discovering what was once believed to be impossible\n",
    "- The internet: Seemed like science fiction a century ago.\n",
    "- Computation models could evolve from classical logic and machines\n",
    "\n",
    "**Popcorn Hack #2: Practice from College Board**\n",
    "(Answer these in your blog)\n",
    "\n",
    "#1. An algorithm can be used to solve an undecidable problem (True or False)\n",
    "    <details>\n",
    "        False. If the problem is undecidable then there will be no algorithm than can create a yes/no output for all inputs.\n",
    "    </Answer>\n",
    "\n",
    "#2. If a programmer encounters an undecidable problem, they can just use an algorithm that works most of the time. (True or False)\n",
    "    <details>\n",
    "            False. An undecidable problem that only works sometimes will not work overall. They will need to come up with a new problem. \n",
    "        </Answer>\n",
    "\n",
    "**HOMEWORK**\n",
    " Part 1: Identify the Problem Type \n",
    "Read the following problems and decide whether they are decidable or undecidable. Write your answer and a short reason why.\n",
    "\n",
    "“Is this number divisible by 2?”\n",
    "\n",
    "“Will this program stop or run forever?”\n",
    "\n",
    "“Does this sentence contain the word ‘banana’?”\n",
    "\n",
    "“Will this AI ever become sentient?”\n",
    "\n",
    "\n",
    "Part 2: Algorithm Detective (2 minutes)\n",
    "Look at the two mystery \"algorithms\" below. Figure out which one is decidable and which one is undecidable, then explain your reasoning in one sentence each.\n",
    "\n"
   ]
  },
  {
   "cell_type": "markdown",
   "metadata": {},
   "source": [
    "```markdown\n",
    "Step 1: Input a number  \n",
    "Step 2: If the number is even, say \"Yes.\" If not, say \"No.\"  \n",
    "```\n",
    "```markdown\n",
    "Step 1: Input any program  \n",
    "Step 2: Predict if it will ever stop running  \n",
    "Step 3: Output \"Yes\" if it will stop, \"No\" if it will run forever  \n",
    "```\n",
    "\n",
    "Part 3: Real-Life Connection \n",
    "Think of something in real life where you can’t be sure what will happen unless you go through the entire experience.\n",
    "    <details>\n",
    "            Example: A real-life undecidable situation is like watching the loading screen on a website that’s stuck — you don’t know if it’s ever going to finish loading or if it’s frozen forever.\n",
    "        </Example>"
   ]
  },
  {
   "cell_type": "markdown",
   "metadata": {},
   "source": [
    "<h1 style=\"color: #C71585;\">Teaching Undeciedable Problems</h1>\n",
    "\n",
    "## Undeciedable Problems:\n",
    "\n",
    "As college board explained it, **Undeciedable Problems** is one for which no algorithm can be constructed that is always capable of providing a correct yes or no answer. This means that an algorithm **cannot provide an outputs** for given inputs. \n",
    "In the **CSP** curriculum, a undecideabl problems has some key features:\n",
    "- Most importantly, an algorithm becomes undecidable even if some instances have a solution, but not **all** solutions have one\n",
    "- Conceptually, undecidability demonstrates the inherent limits of what algorithms can achieve. "
   ]
  },
  {
   "cell_type": "markdown",
   "metadata": {},
   "source": [
    "**The Halting Problem**\n",
    "College Board exemplified this through the Halting Problem. This program takes an input and will either eventually stop (halt) or run forever. This program cannot exist beacuse it would create an impossible scenario. This was proven by Alan Turing, and it shows that some problems can never be solved by an algorithm, no matter how powerful computers become."
   ]
  },
  {
   "cell_type": "markdown",
   "metadata": {},
   "source": [
    "A **decidable problem** is a decision problem for wich an algorithm can be writen to produce a correct output for all inputs(eg.”Is the number even?”)\n",
    "An undecidable problem is a problem that has no algorithim that can provide a yes or no answer, An undecidable problem may have an algorithim that works, but it can never fully work, and there are always instances in wich that is the case to make a problem undecidable."
   ]
  },
  {
   "cell_type": "code",
   "execution_count": null,
   "metadata": {},
   "outputs": [],
   "source": [
    "from IPython.display import Image, display\n",
    "\n",
    "# Display the image\n",
    "display(Image(filename='und.png'))"
   ]
  },
  {
   "cell_type": "markdown",
   "metadata": {},
   "source": [
    "![Und](./und2.png)\n"
   ]
  }
 ],
 "metadata": {
  "kernelspec": {
   "display_name": "Python 3",
   "language": "python",
   "name": "python3"
  },
  "language_info": {
   "codemirror_mode": {
    "name": "ipython",
    "version": 3
   },
   "file_extension": ".py",
   "mimetype": "text/x-python",
   "name": "python",
   "nbconvert_exporter": "python",
   "pygments_lexer": "ipython3",
   "version": "3.12.3"
  }
 },
 "nbformat": 4,
 "nbformat_minor": 2
}
