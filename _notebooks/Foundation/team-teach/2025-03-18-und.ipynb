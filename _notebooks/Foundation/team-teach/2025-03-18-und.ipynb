{
 "cells": [
  {
   "cell_type": "markdown",
   "metadata": {},
   "source": [
    "---\n",
    "layout: post\n",
    "title: Undecideable Problems\n",
    "description: Lesson for Undecideable Problems\n",
    "courses: { csp: {week:1} }\n",
    "menu: nav/lessons.html\n",
    "permalink: /lesson/3-3\n",
    "comments: true\n",
    "---"
   ]
  },
  {
   "cell_type": "markdown",
   "metadata": {},
   "source": [
    "<h1 style=\"color: pink;\">Teaching Undecideable Problems:</h1>\n",
    "\n",
    "<h1 style=\"color: pink;\">Introduction to Undecideable Problems:</h1>\n",
    "\n",
    "As college board explained it, **Undecideable Problems** is one for which no algorithm can be constructed that is always capable of providing a correct yes or no answer. This means that an algorithm **cannot provide an outputs** for given inputs. \n",
    "In the **CSP** curriculum, a undecideable problems has some key features:\n",
    "- Most importantly, an anlorithm becomes undecideable even if some instances have a solution, but not **all** solutions have one\n",
    "- Undecideability demonstrates the inherent limits of what algorithms can achieve. "
   ]
  },
  {
   "cell_type": "markdown",
   "metadata": {},
   "source": [
    "**The Halting Problem**\n",
    "College Board exemplified this through the Halting Problem. This program takes will eventually stop (halt) or run forever. This program cannot exist beacuse it would create an impossible scenario. This was proven by Alan Turing, and it shows that some problems can never be solved by an algorithm, no matter how powerful computers become."
   ]
  },
  {
   "cell_type": "markdown",
   "metadata": {},
   "source": [
    "A **decideable problem** is a decision problem for wich an algorithm can be writen to produce a correct output for all inputs(eg.”Is the number even?”)\n",
    "An undecideable problem is a problem that has no algorithim that can provide a yes or no answer, An undecideable problem may have an algorithim that works, but it can never fully work, and there are always instances in wich that is the case to make a problem undecideable."
   ]
  },
  {
   "cell_type": "markdown",
   "metadata": {},
   "source": [
    "Ask: \"Can we write a program that tells if another program will stop running or loop forever?\"\n",
    "Answer: No! This is called the Halting Problem, which is undecideable—there’s no algorithm that works in all cases.\n",
    "\n",
    "🖥️ Task:\n",
    "Students will try to write a program checker that predicts whether a function will halt.\n",
    "\n",
    "🔹 Step 1: Have students type this Python function:"
   ]
  },
  {
   "cell_type": "code",
   "execution_count": null,
   "metadata": {
    "vscode": {
     "languageId": "plaintext"
    }
   },
   "outputs": [],
   "source": [
    "def will_halt(program):\n",
    "    # The big question: Can we predict if 'program' will halt?\n",
    "    if predicts_halt(program):\n",
    "        return \"This program will halt!\"\n",
    "    else:\n",
    "        return \"This program will loop forever!\"\n"
   ]
  },
  {
   "cell_type": "markdown",
   "metadata": {},
   "source": [
    "What if we test this function on itself?\n",
    "\n",
    "Step 2: Now, have them write a paradoxical function:"
   ]
  },
  {
   "cell_type": "code",
   "execution_count": null,
   "metadata": {
    "vscode": {
     "languageId": "plaintext"
    }
   },
   "outputs": [],
   "source": [
    "def paradox():\n",
    "    if will_halt(paradox) == \"This program will halt!\":\n",
    "        while True:  # Infinite loop\n",
    "            pass\n",
    "    else:\n",
    "        return \"Halted!\"    "
   ]
  },
  {
   "cell_type": "markdown",
   "metadata": {},
   "source": [
    "➡️ Question: What happens if paradox() is checked?\n",
    "\n",
    "If will_halt(paradox) predicts \"will halt\", paradox loops forever.\n",
    "If it predicts \"loops forever\", paradox halts.\n",
    "Contradiction! 💥 No function can exist that always solves this!\n",
    "\n",
    "\n",
    "Step 3: Wrap-up (1 min)\n",
    "Explain: Some problems have no algorithmic solution—just like we can’t always predict the last popcorn pop.\n",
    "Key takeaway: Computers have limits! There are things they simply cannot decide."
   ]
  }
 ],
 "metadata": {
  "language_info": {
   "name": "python"
  }
 },
 "nbformat": 4,
 "nbformat_minor": 2
}
