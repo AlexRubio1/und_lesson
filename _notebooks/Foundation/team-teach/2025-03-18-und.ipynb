{
 "cells": [
  {
   "cell_type": "markdown",
   "metadata": {},
   "source": [
    "---\n",
    "layout: post\n",
    "title: Undecidable Problems\n",
    "description: Lesson for Undecidable Problems\n",
    "courses: { csp: {week:1} }\n",
    "menu: nav/lessons.html\n",
    "permalink: /lesson/3-3\n",
    "comments: true\n",
    "---"
   ]
  },
  {
   "cell_type": "markdown",
   "metadata": {},
   "source": [
    "- humanity solved problems before\n",
    "- change college board definition : only for projecty\n"
   ]
  },
  {
   "cell_type": "markdown",
   "metadata": {},
   "source": [
    "---\n",
    "layout: post\n",
    "title: \"Week 1: Introduction to the Raspberry Pi\"\n",
    "description: Showing how I was able to work and experiment with these.\n",
    "courses: { csp: {week:1} }\n",
    "comments: true\n",
    "sticky_rank: 1\n",
    "---"
   ]
  },
  {
   "cell_type": "markdown",
   "metadata": {},
   "source": [
    "A decidable problem is a decision problem for wich an algorithm can be writen to produce a correct output for all inputs(eg.”Is the number even?”)\n",
    "An undecidable problem is a problem that has no algorithim that can provide a yes or no answer, An undecidable problem may have an algorithim that works, but it can never fully work, and there are always instances in wich that is the case to make a problem undecidable."
   ]
  },
  {
   "cell_type": "markdown",
   "metadata": {},
   "source": [
    "Ask: \"Can we write a program that tells if another program will stop running or loop forever?\"\n",
    "Answer: No! This is called the Halting Problem, which is undecidable—there’s no algorithm that works in all cases.\n",
    "\n",
    "🖥️ Task:\n",
    "Students will try to write a program checker that predicts whether a function will halt.\n",
    "\n",
    "🔹 Step 1: Have students type this Python function:"
   ]
  },
  {
   "cell_type": "code",
   "execution_count": null,
   "metadata": {
    "vscode": {
     "languageId": "plaintext"
    }
   },
   "outputs": [],
   "source": [
    "def will_halt(program):\n",
    "    # The big question: Can we predict if 'program' will halt?\n",
    "    if predicts_halt(program):\n",
    "        return \"This program will halt!\"\n",
    "    else:\n",
    "        return \"This program will loop forever!\"\n"
   ]
  },
  {
   "cell_type": "markdown",
   "metadata": {},
   "source": [
    "What if we test this function on itself?\n",
    "\n",
    "Step 2: Now, have them write a paradoxical function:"
   ]
  },
  {
   "cell_type": "code",
   "execution_count": null,
   "metadata": {
    "vscode": {
     "languageId": "plaintext"
    }
   },
   "outputs": [],
   "source": [
    "def paradox():\n",
    "    if will_halt(paradox) == \"This program will halt!\":\n",
    "        while True:  # Infinite loop\n",
    "            pass\n",
    "    else:\n",
    "        return \"Halted!\"    "
   ]
  },
  {
   "cell_type": "markdown",
   "metadata": {},
   "source": [
    "➡️ Question: What happens if paradox() is checked?\n",
    "\n",
    "If will_halt(paradox) predicts \"will halt\", paradox loops forever.\n",
    "If it predicts \"loops forever\", paradox halts.\n",
    "Contradiction! 💥 No function can exist that always solves this!\n",
    "\n",
    "\n",
    "Step 3: Wrap-up (1 min)\n",
    "Explain: Some problems have no algorithmic solution—just like we can’t always predict the last popcorn pop.\n",
    "Key takeaway: Computers have limits! There are things they simply cannot decide."
   ]
  }
 ],
 "metadata": {
  "language_info": {
   "name": "python"
  }
 },
 "nbformat": 4,
 "nbformat_minor": 2
}
