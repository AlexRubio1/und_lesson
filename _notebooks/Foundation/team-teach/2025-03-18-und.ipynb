{
 "cells": [
  {
   "cell_type": "markdown",
   "metadata": {},
   "source": [
    "---\n",
    "layout: post\n",
    "title: Undecidable Problems\n",
    "description: Lesson for Undecidable Problems\n",
    "courses: { csp: {week:1} }\n",
    "menu: nav/lessons.html\n",
    "permalink: /lesson/3-3\n",
    "comments: true\n",
    "---"
   ]
  },
  {
   "cell_type": "markdown",
   "metadata": {},
   "source": [
    "- humanity solved problems before\n",
    "- change college board definition : only for projecty\n"
   ]
  },
  {
   "cell_type": "markdown",
   "metadata": {},
   "source": [
    "<h1 style=\"color: #C71585;\">Teaching Undeciedable Problems</h1>\n",
    "\n",
    "## Undeciedable Problems:\n",
    "\n",
    "As college board explained it, **Undeciedable Problems** is one for which no algorithm can be constructed that is always capable of providing a correct yes or no answer. This means that an algorithm **cannot provide an outputs** for given inputs. \n",
    "In the **CSP** curriculum, a undecideabl problems has some key features:\n",
    "- Most importantly, an algorithm becomes undecidable even if some instances have a solution, but not **all** solutions have one\n",
    "- Conceptually, undecidability demonstrates the inherent limits of what algorithms can achieve. "
   ]
  },
  {
   "cell_type": "markdown",
   "metadata": {},
   "source": [
    "**The Halting Problem**\n",
    "College Board exemplified this through the Halting Problem. This program takes an input and will either eventually stop (halt) or run forever. This program cannot exist beacuse it would create an impossible scenario. This was proven by Alan Turing, and it shows that some problems can never be solved by an algorithm, no matter how powerful computers become."
   ]
  },
  {
   "cell_type": "markdown",
   "metadata": {},
   "source": [
    "A **decidable problem** is a decision problem for wich an algorithm can be writen to produce a correct output for all inputs(eg.”Is the number even?”)\n",
    "An undecidable problem is a problem that has no algorithim that can provide a yes or no answer, An undecidable problem may have an algorithim that works, but it can never fully work, and there are always instances in wich that is the case to make a problem undecidable."
   ]
  },
  {
   "cell_type": "markdown",
   "metadata": {},
   "source": [
    "Ask: \"Can we write a program that tells if another program will stop running or loop forever?\"\n",
    "Answer: No! This is called the Halting Problem, which is undecidable—there’s no algorithm that works in all cases.\n",
    "\n",
    "🖥️ Task:\n",
    "Students will try to write a program checker that predicts whether a function will halt.\n",
    "\n",
    "🔹 Step 1: Have students type this Python function:"
   ]
  },
  {
   "cell_type": "code",
   "execution_count": 4,
   "metadata": {},
   "outputs": [
    {
     "ename": "SyntaxError",
     "evalue": "invalid syntax (1874071268.py, line 4)",
     "output_type": "error",
     "traceback": [
      "\u001b[0;36m  Cell \u001b[0;32mIn[4], line 4\u001b[0;36m\u001b[0m\n\u001b[0;31m    display(Image(filename='und.png'))![und](und.png)\u001b[0m\n\u001b[0m                                      ^\u001b[0m\n\u001b[0;31mSyntaxError\u001b[0m\u001b[0;31m:\u001b[0m invalid syntax\n"
     ]
    }
   ],
   "source": [
    "from IPython.display import Image, display\n",
    "\n",
    "# Display the image\n",
    "display(Image(filename='und.png'))![und](und.png)"
   ]
  },
  {
   "cell_type": "markdown",
   "metadata": {},
   "source": [
    "![und](und2.png)\n"
   ]
  }
 ],
 "metadata": {
  "kernelspec": {
   "display_name": "Python 3",
   "language": "python",
   "name": "python3"
  },
  "language_info": {
   "codemirror_mode": {
    "name": "ipython",
    "version": 3
   },
   "file_extension": ".py",
   "mimetype": "text/x-python",
   "name": "python",
   "nbconvert_exporter": "python",
   "pygments_lexer": "ipython3",
   "version": "3.12.3"
  }
 },
 "nbformat": 4,
 "nbformat_minor": 2
}
