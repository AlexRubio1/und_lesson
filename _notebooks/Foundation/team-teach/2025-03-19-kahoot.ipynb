{
 "cells": [
  {
   "cell_type": "markdown",
   "metadata": {},
   "source": [
    "---\n",
    "layout: post\n",
    "title: Kahoot\n",
    "description: Kahoot game for Undecideable Problems, Graphs, and Heuristics\n",
    "courses: { csp: {week:1} }\n",
    "menu: nav/lessons.html\n",
    "permalink: /lesson/3-5\n",
    "comments: true\n",
    "---"
   ]
  }
 ],
 "metadata": {
  "language_info": {
   "name": "python"
  }
 },
 "nbformat": 4,
 "nbformat_minor": 2
}
