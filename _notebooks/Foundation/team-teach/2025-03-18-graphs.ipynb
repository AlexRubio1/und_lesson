{
 "cells": [
  {
   "cell_type": "markdown",
   "metadata": {},
   "source": [
    "---\n",
    "layout: post\n",
    "title: Graphs\n",
    "description: Lesson on Graphs\n",
    "courses: { csp: {week:1} }\n",
    "menu: nav/lessons.html\n",
    "permalink: /lesson/3-1\n",
    "comments: true\n",
    "---"
   ]
  },
  {
   "cell_type": "markdown",
   "metadata": {},
   "source": [
    "<h1 style=\"color: pink;\">Definition</h1>\n",
    "Graphs are a fundamental data structure in computer science used to model relationships between objects.<br/>\n",
    "Each object is a node (also called a vertex), and the connection between them is an edge (or arc). <br/>"
   ]
  },
  {
   "cell_type": "markdown",
   "metadata": {},
   "source": [
    "<h1 style=\"color: pink;\">Common Uses</h1>\n",
    "- Pathfinding algorithms (Google Maps, GPS) <br/>\n",
    "- Web page ranking (Google’s PageRank algorithm) <br/>\n",
    "- Network routing (data packet transfers) <br/>"
   ]
  },
  {
   "cell_type": "markdown",
   "metadata": {},
   "source": [
    "<h1 style=\"color: pink;\">Warm-Up Activity</h1>\n",
    "\"Imagine you are a delivery driver for Amazon. You have 10 packages to deliver to 10 different houses in a neighborhood. What’s the best way to plan your route so you don’t waste time and gas?\" <br/>\n",
    "- What strategies would you use to decide where to go first? <br/>\n",
    "- How do real-life delivery companies solve this problem? <br/>\n",
    "- Would it be practical to try every possible route? Why or why not? <br/>\n"
   ]
  },
  {
   "cell_type": "markdown",
   "metadata": {},
   "source": [
    "<h1 style=\"color: pink;\">Graphing Example</h1>\n",
    "How we can represent cities and paths as graphs: <br/>\n",
    "- Nodes (Vertices) → Cities <br/>\n",
    "- Edges → Roads between cities <br/>\n",
    "- Weights → Distance or cost of travel <br/>\n",
    "**Draw a simple 5-city graph on the board and discuss possible routes.** <br/>"
   ]
  },
  {
   "cell_type": "markdown",
   "metadata": {},
   "source": [
    "[![Indiana Jones Leap of Faith](https://images.squarespace-cdn.com/content/v1/5ade2895e2ccd1a1e9ca7abc/1524893252789-D1QTCSB98UL00FY67NX6/stepping.jpg)](https://youtu.be/sBBbq2g7yf8?si=s5vkcz-X65wP0mgH)"
   ]
  },
  {
   "cell_type": "markdown",
   "metadata": {},
   "source": [
    "traveling salesman going to 10 cities, what is th ebest way to go?\n",
    "10 cities on map, how do you know where to go first\n",
    "heuristic is a step/leap whihc you think is positive or sensable, make analgorithm from that\n",
    "indiana jones puts foot down "
   ]
  },
  {
   "cell_type": "markdown",
   "metadata": {},
   "source": [
    "find traveling salesmaen problem/video"
   ]
  }
 ],
 "metadata": {
  "language_info": {
   "name": "python"
  }
 },
 "nbformat": 4,
 "nbformat_minor": 2
}
