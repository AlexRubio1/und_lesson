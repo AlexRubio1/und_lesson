{
 "cells": [
  {
   "cell_type": "markdown",
   "metadata": {},
   "source": [
    "---\n",
    "layout: post\n",
    "title: Graphs\n",
    "description: Lesson on Graphs\n",
    "courses: { csp: {week:1} }\n",
    "menu: nav/lessons.html\n",
    "permalink: /lesson/3-1\n",
    "comments: true\n",
    "---"
   ]
  },
  {
   "cell_type": "markdown",
   "metadata": {},
   "source": [
    "traveling salesman going to 10 cities, what is th ebest way to go?\n",
    "10 cities on map, how do you know where to go first\n",
    "heuristic is a step/leap whihc you think is positive or sensable, make analgorithm from that\n",
    "indiana jones puts foot down "
   ]
  },
  {
   "cell_type": "markdown",
   "metadata": {},
   "source": [
    "find traveling salesmaen problem/video"
   ]
  }
 ],
 "metadata": {
  "language_info": {
   "name": "python"
  }
 },
 "nbformat": 4,
 "nbformat_minor": 2
}
