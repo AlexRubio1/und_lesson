{
 "cells": [
  {
   "cell_type": "markdown",
   "metadata": {},
   "source": [
    "---\n",
    "layout: post\n",
    "title: Graphs\n",
    "description: Lesson on Graphs\n",
    "courses: { csp: {week:1} }\n",
    "menu: nav/lessons.html\n",
    "permalink: /lesson/3-1\n",
    "comments: true\n",
    "---"
   ]
  },
  {
   "cell_type": "markdown",
   "metadata": {},
   "source": [
    "<h1 style=\"color: #C71585;\">Teaching Graphs</h1>\n",
    "\n",
    "<h2 style=\"color: #C71585;\">Definition</h2>\n",
    "\n",
    "Graphs are a fundamental data structure in computer science used to model relationships between objects.<br/>\n",
    "Each object is a node (also called a vertex), and the connection between them is an edge (or arc). <br/>\n",
    "In a complete graph, there is a single edge between every pair of distinct vertices. There are no loops and no multiple edges.<br/>"
   ]
  },
  {
   "cell_type": "markdown",
   "metadata": {},
   "source": [
    "<h2 style=\"color: #C71585;\">Common Uses</h2>\n",
    "\n",
    "- Pathfinding algorithms (Google Maps, GPS) <br/>\n",
    "- Web page ranking (Google’s PageRank algorithm) <br/>\n",
    "- Network routing (data packet transfers) <br/>"
   ]
  },
  {
   "cell_type": "markdown",
   "metadata": {},
   "source": [
    "### Image Example of a Graph\n",
    "\n",
    "![Graph Data Structure](https://media.geeksforgeeks.org/wp-content/uploads/20240403150314/graph-data-structure.webp)\n",
    "\n",
    "\n"
   ]
  },
  {
   "cell_type": "markdown",
   "metadata": {},
   "source": [
    "<h2 style=\"color: #C71585;\">Warm-Up Activity</h2>\n",
    "\n",
    "\"Imagine you are a delivery driver for Amazon. You have 10 packages to deliver to 10 different houses in a neighborhood. What’s the best way to plan your route so you don’t waste time and gas?\" <br/>\n",
    "- What strategies would you use to decide where to go first? <br/>\n",
    "- How do real-life delivery companies solve this problem? <br/>\n",
    "- Would it be practical to try every possible route? Why or why not? <br/>\n"
   ]
  },
  {
   "cell_type": "markdown",
   "metadata": {},
   "source": [
    "<h2 style=\"color: #C71585;\">Adjacency Matrix vs. Adjacency List</h2>\n",
    "\n",
    "### Adjacency Matrix\n",
    "- An adjacency matrix is a way of representing a graph as a matrix of boolean (0’s and 1’s) <br/>\n",
    "\n",
    "**Undirected Graph as Adjacency Matrix** <br/>\n",
    "![adjacency Matrix w/ undirected Graph](https://media.geeksforgeeks.org/wp-content/uploads/20230727130331/Undirected_to_Adjacency_matrix.png) <br/>\n",
    "The entire matrix is intialized to 0. If there is an edge from source to destination, insert 1 because it can go either way.<br/>\n",
    "\n",
    "**Directed Graph as Adjacency Matrix**<br/>\n",
    "\n",
    "![adjacency Matrix w/ directed Graph](https://media.geeksforgeeks.org/wp-content/uploads/20230727130528/Directed_to_Adjacency_matrix.png)\n",
    "<br/>\n",
    "The entire matrix is intialized to 0. If there is an edge from source to destination, we insert 1 for the particular destination.\n",
    "<br/>\n",
    "\n",
    "### Adjacency List\n",
    "- An array of Lists is used to store edges between two vertices. The size of array is equal to the number of vertices (i.e, n). Each index in this array represents a specific vertex in the graph. The entry at the index i of the array contains a linked list containing the vertices that are adjacent to vertex i.<br/>\n",
    "\n",
    "**Undirected Graph as Adjacency List**<br/>\n",
    "![adjacency list w/ undirected Graph](https://media.geeksforgeeks.org/wp-content/uploads/20230727154843/Graph-Representation-of-Undirected-graph-to-Adjacency-List.png) <br/>\n",
    "The below undirected graph has 3 vertices. So, an array of list will be created of size 3, where each indices represent the vertices. Now, vertex 0 has two neighbours (i.e, 1 and 2). So, insert vertex 1 and 2 at indices 0 of array. Similarly, For vertex 1, it has two neighbour (i.e, 2 and 0) So, insert vertices 2 and 0 at indices 1 of array. Similarly, for vertex 2, insert its neighbours in array of list.<br/>\n",
    "\n",
    "**Directed Graph as Adjacency List** <br/>\n",
    "\n",
    "![adjacency list w/ directed Graph](https://media.geeksforgeeks.org/wp-content/uploads/20230727155209/Graph-Representation-of-Directed-graph-to-Adjacency-List.png)\n",
    "<br/>\n",
    "The below directed graph has 3 vertices. So, an array of list will be created of size 3, where each indices represent the vertices. Now, vertex 0 has no neighbours. For vertex 1, it has two neighbour (i.e, 0 and 2) So, insert vertices 0 and 2 at indices 1 of array. Similarly, for vertex 2, insert its neighbours in array of list.<br/>\n",
    "\n"
   ]
  },
  {
   "cell_type": "markdown",
   "metadata": {},
   "source": [
    "<h2 style=\"color: #C71585;\">Popcorn Hack</h2>\n",
    "How we can represent cities and paths as graphs: <br/>\n",
    "- Nodes (Vertices) → Cities <br/>\n",
    "- Edges → Roads between cities <br/>\n",
    "- Weights → Distance or cost of travel <br/>\n",
    "**Draw a simple 5-city graph on the board and discuss possible routes.** <br/>"
   ]
  },
  {
   "cell_type": "markdown",
   "metadata": {},
   "source": [
    "Here is a Youtube video that shows and explains graphs in computer science with a traveling salesman example.\n",
    "[[Traveling Salesman Problem]](https://youtu.be/sNyh-IywI4M?si=YVJaIJwdcCSVum_-)\n",
    "\n"
   ]
  },
  {
   "cell_type": "markdown",
   "metadata": {},
   "source": [
    "<h2 style=\"color: #C71585;\">Homework Hack</h2>\n",
    "College Board Example <br/>\n",
    "Skill 1.D. Design and Evaluate computational solutions for a purpose. <br/>\n",
    "\n",
    "<img width=\"500\" alt=\"Image\" src=\"{{site.baseurl}}/images/collegeboardgraph.png\"/>\n",
    "\n"
   ]
  },
  {
   "cell_type": "markdown",
   "metadata": {},
   "source": [
    "**Q1: In which of the configurations is it possible to have redundant routing between devices Q and V?**\n",
    "\n",
    "A) Configuration I only <br/>\n",
    "B) Configuration II only<br/>\n",
    "C) Both configuration I and configuration II<br/>\n",
    "D) Neither configuration I nor configuration II<br/>\n",
    "\n",
    "**Q2: In configuration I, what is the minimum number of connections that must be broken or removed before device T can no longer communicate with device U?**\n",
    "\n",
    "A) One<br/>\n",
    "B) Two<br/>\n",
    "C) Three<br/>\n",
    "D) Four<br/>"
   ]
  }
 ],
 "metadata": {
  "language_info": {
   "name": "python"
  }
 },
 "nbformat": 4,
 "nbformat_minor": 2
}
