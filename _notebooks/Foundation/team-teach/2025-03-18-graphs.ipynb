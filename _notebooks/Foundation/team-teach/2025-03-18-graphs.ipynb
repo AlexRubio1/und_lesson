{
 "cells": [
  {
   "cell_type": "markdown",
   "metadata": {},
   "source": [
    "---\n",
    "layout: post\n",
    "title: Graphs\n",
    "description: Lesson on Graphs\n",
    "courses: { csp: {week:1} }\n",
    "menu: nav/lessons.html\n",
    "permalink: /lesson/3-1\n",
    "comments: true\n",
    "---"
   ]
  },
  {
   "cell_type": "markdown",
   "metadata": {},
   "source": [
    "<h1 style=\"color: #C71585;\">Teaching Graphs</h1>\n",
    "\n",
    "<h3 style=\"color: #C71585;\">Definition</h3>\n",
    "Graphs are a fundamental data structure in computer science used to model relationships between objects.<br/>\n",
    "Each object is a node (also called a vertex), and the connection between them is an edge (or arc). <br/>\n",
    "In a complete graph, there is a single edge between every pair of distinct vertices. There are no loops and no multiple edges.<br/>"
   ]
  },
  {
   "cell_type": "markdown",
   "metadata": {},
   "source": [
    "<h3 style=\"color: #C71585;\">Common Uses</h3>\n",
    "- Pathfinding algorithms (Google Maps, GPS) <br/>\n",
    "- Web page ranking (Google’s PageRank algorithm) <br/>\n",
    "- Network routing (data packet transfers) <br/>"
   ]
  },
  {
   "cell_type": "markdown",
   "metadata": {},
   "source": [
    "### Image Example of a Graph\n",
    "![Graph Data Structure](https://media.geeksforgeeks.org/wp-content/uploads/20240403150314/graph-data-structure.webp)\n",
    "\n"
   ]
  },
  {
   "cell_type": "markdown",
   "metadata": {},
   "source": [
    "<h3 style=\"color: #C71585;\">Warm-Up Activity</h3>\n",
    "\"Imagine you are a delivery driver for Amazon. You have 10 packages to deliver to 10 different houses in a neighborhood. What’s the best way to plan your route so you don’t waste time and gas?\" <br/>\n",
    "- What strategies would you use to decide where to go first? <br/>\n",
    "- How do real-life delivery companies solve this problem? <br/>\n",
    "- Would it be practical to try every possible route? Why or why not? <br/>\n"
   ]
  },
  {
   "cell_type": "markdown",
   "metadata": {},
   "source": [
    "<h3 style=\"color: #C71585;\">Popcorn Hack</h3>\n",
    "How we can represent cities and paths as graphs: <br/>\n",
    "- Nodes (Vertices) → Cities <br/>\n",
    "- Edges → Roads between cities <br/>\n",
    "- Weights → Distance or cost of travel <br/>\n",
    "**Draw a simple 5-city graph on the board and discuss possible routes.** <br/>"
   ]
  },
  {
   "cell_type": "markdown",
   "metadata": {},
   "source": [
    "Here is a Youtube video that shows and explains graphs in computer science with a traveling salesman example.\n",
    "[[Traveling Salesman Problem]](https://youtu.be/sNyh-IywI4M?si=YVJaIJwdcCSVum_-)\n",
    "\n"
   ]
  },
  {
   "cell_type": "markdown",
   "metadata": {},
   "source": [
    "<h3 style=\"color: #C71585;\">Homework Hack</h3>\n",
    "College Board Example <br/>\n",
    "Skill 1.D. Design and Evaluate computational solutions for a purpose. <br/>\n",
    "\n",
    "<img width=\"593\" alt=\"Image\" src=\"https://github.com/user-attachments/assets/2db54671-c3fb-42ba-b1aa-1ae9a9ee6c22\" />\n"
   ]
  },
  {
   "cell_type": "markdown",
   "metadata": {},
   "source": [
    "**Q1: In which of the configurations is it possible to have redundant routing between devices Q and V?**\n",
    "\n",
    "A) Configuration I only <br/>\n",
    "B) Configuration II only<br/>\n",
    "C) Both configuration I and configuration II<br/>\n",
    "D) Neither configuration I nor configuration II<br/>\n",
    "\n",
    "**Q2: In configuration I, what is the minimum number of connections that must be broken or removed before device T can no longer communicate with device U?**\n",
    "\n",
    "A) One<br/>\n",
    "B) Two<br/>\n",
    "C) Three<br/>\n",
    "D) Four<br/>"
   ]
  }
 ],
 "metadata": {
  "language_info": {
   "name": "python"
  }
 },
 "nbformat": 4,
 "nbformat_minor": 2
}
