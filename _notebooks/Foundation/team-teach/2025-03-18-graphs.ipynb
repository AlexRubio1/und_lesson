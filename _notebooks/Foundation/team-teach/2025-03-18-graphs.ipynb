{
 "cells": [
  {
   "cell_type": "markdown",
   "metadata": {},
   "source": [
    "---\n",
    "layout: post\n",
    "title: Graphs\n",
    "description: Lesson on Graphs\n",
    "courses: { csp: {week:1} }\n",
    "menu: nav/lessons.html\n",
    "permalink: /lesson/3-1\n",
    "comments: true\n",
    "---"
   ]
  },
  {
   "cell_type": "markdown",
   "metadata": {},
   "source": [
    "# Definition\n",
    "Graphs are a fundamental data structure in computer science used to model relationships between objects.<br/>\n",
    "Each object is a node (also called a vertex), and the connection between them is an edge (or arc). <br/>"
   ]
  },
  {
   "cell_type": "markdown",
   "metadata": {},
   "source": [
    "# Common Uses\n",
    "- Social networks (connections between users) <br/>\n",
    "- Pathfinding algorithms (Google Maps, GPS) <br/>\n",
    "- Web page ranking (Google’s PageRank algorithm) <br/>\n",
    "- Network routing (data packet transfers) <br/>"
   ]
  },
  {
   "cell_type": "markdown",
   "metadata": {},
   "source": [
    "traveling salesman going to 10 cities, what is th ebest way to go?\n",
    "10 cities on map, how do you know where to go first\n",
    "heuristic is a step/leap whihc you think is positive or sensable, make analgorithm from that\n",
    "indiana jones puts foot down "
   ]
  },
  {
   "cell_type": "markdown",
   "metadata": {},
   "source": [
    "find traveling salesmaen problem/video"
   ]
  }
 ],
 "metadata": {
  "language_info": {
   "name": "python"
  }
 },
 "nbformat": 4,
 "nbformat_minor": 2
}
