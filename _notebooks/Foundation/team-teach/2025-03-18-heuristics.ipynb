{
 "cells": [
  {
   "cell_type": "markdown",
   "metadata": {},
   "source": [
    "---\n",
    "layout: post\n",
    "title: Heurisitics\n",
    "description: Lesson on Heuristics\n",
    "courses: { csp: {week:1} }\n",
    "menu: nav/lessons.html\n",
    "permalink: /lesson/3-2\n",
    "comments: true\n",
    "---"
   ]
  },
  {
   "cell_type": "markdown",
   "metadata": {},
   "source": [
    "# Teaching Heuristics in AP Computer Science with VS Code: A Complete Lesson\n",
    "\n",
    "## Introduction to Heuristics\n",
    "\n",
    "In computer science, **heuristics** are problem-solving techniques that simplify decision-making and find \"good enough\" solutions when an optimal one is too costly or complex to obtain. They play a crucial role in helping solve computational problems efficiently, especially in situations involving large data sets or when optimal solutions are computationally expensive.\n",
    "\n",
    "In the **AP Computer Science A** curriculum, heuristics help students understand and apply efficient problem-solving strategies for a wide range of coding problems.\n",
    "\n",
    "## What is a Heuristic?\n",
    "\n",
    "A **heuristic** is a mental shortcut or rule of thumb used to solve problems. In programming, heuristics help guide decision-making, leading to quicker solutions without the need to explore all possibilities. While heuristics do not guarantee the best solution, they often provide a good-enough answer in a reasonable amount of time.\n",
    "\n",
    "### Examples of Heuristics in Coding\n",
    "\n",
    "1. **Greedy Algorithms**: These algorithms choose the best available option at each step with the hope of reaching a global optimum. A classic example is **Greedy Coin Change**, which picks the highest coin denomination available.\n",
    "\n",
    "2. **Search Algorithms**: In pathfinding problems, heuristics like **Manhattan Distance** or **Euclidean Distance** are used to estimate the distance from the current node to the goal. These help improve search efficiency.\n",
    "\n",
    "3. **Sorting Algorithms**: Some sorting algorithms like **Insertion Sort** are heuristically chosen for small datasets due to their low overhead compared to more complex algorithms like **Merge Sort**.\n",
    "\n",
    "---\n",
    "\n",
    "## The Role of Heuristics in AP Computer Science A\n",
    "\n",
    "In AP Computer Science A, students are introduced to heuristics in the context of algorithms and problem-solving. Here are some ways heuristics come into play:\n",
    "\n",
    "### 1. Sorting Algorithms\n",
    "Heuristics help decide which sorting algorithm to use. For example:\n",
    "- **Insertion Sort** is chosen when dealing with small datasets, as it is simpler and faster for small inputs.\n",
    "- **Merge Sort** or **Quick Sort** is better for larger datasets as they have better time complexity.\n",
    "\n",
    "### 2. Search Algorithms\n",
    "Heuristics like **A* Search Algorithm** combine actual distances and estimated distances (heuristics) to find the shortest path in a graph. The heuristic used helps estimate which path is more likely to lead to the goal efficiently.\n",
    "\n",
    "### 3. Optimization Problems\n",
    "Heuristics are used when solving optimization problems where an exact solution is too slow to compute. For example, in the **Knapsack Problem**, heuristics like the **Greedy Approach** can be used to find an approximation of the optimal solution.\n",
    "\n",
    "---\n",
    "\n",
    "## Setting up a simple popcorn hack with Hueristics"
   ]
  },
  {
   "cell_type": "code",
   "execution_count": 3,
   "metadata": {},
   "outputs": [
    {
     "ename": "SyntaxError",
     "evalue": "invalid syntax (629397797.py, line 1)",
     "output_type": "error",
     "traceback": [
      "  \u001b[36mCell\u001b[39m\u001b[36m \u001b[39m\u001b[32mIn[3]\u001b[39m\u001b[32m, line 1\u001b[39m\n\u001b[31m    \u001b[39m\u001b[31mpublic class PopcornHack {\u001b[39m\n           ^\n\u001b[31mSyntaxError\u001b[39m\u001b[31m:\u001b[39m invalid syntax\n"
     ]
    }
   ],
   "source": [
    "public class PopcornHack {\n",
    "    public static void main(String[] args) {\n",
    "        // Kernel pop times for 15, 10, and 5 kernels\n",
    "        int[] batchSizes = {15, 10, 5};  // Number of kernels per batch\n",
    "        int timeLimit = 100;  // Maximum time available in seconds\n",
    "        int totalKernelsPopped = 0;\n",
    "\n",
    "        // Start popping with the largest batch size first\n",
    "        for (int batchSize : batchSizes) {\n",
    "            while (timeLimit >= batchSize) {\n",
    "                totalKernelsPopped += batchSize;\n",
    "                timeLimit -= batchSize;\n",
    "            }\n",
    "        }\n",
    "\n",
    "        // Output the total number of kernels popped\n",
    "        System.out.println(\"Total kernels popped: \" + totalKernelsPopped);\n",
    "        System.out.println(\"Remaining time: \" + timeLimit + \" seconds\");\n",
    "    }\n",
    "}"
   ]
  }
 ],
 "metadata": {
  "kernelspec": {
   "display_name": "venv",
   "language": "python",
   "name": "python3"
  },
  "language_info": {
   "codemirror_mode": {
    "name": "ipython",
    "version": 3
   },
   "file_extension": ".py",
   "mimetype": "text/x-python",
   "name": "python",
   "nbconvert_exporter": "python",
   "pygments_lexer": "ipython3",
   "version": "3.13.1"
  }
 },
 "nbformat": 4,
 "nbformat_minor": 2
}
