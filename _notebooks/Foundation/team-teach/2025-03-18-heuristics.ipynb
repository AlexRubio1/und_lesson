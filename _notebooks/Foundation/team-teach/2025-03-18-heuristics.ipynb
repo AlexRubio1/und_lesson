{
 "cells": [
  {
   "cell_type": "markdown",
   "metadata": {},
   "source": [
    "---\n",
    "layout: post\n",
    "title: Heurisitics\n",
    "description: Lesson on Heuristics\n",
    "courses: { csp: {week:1} }\n",
    "menu: nav/lessons.html\n",
    "permalink: /lesson/3-2\n",
    "comments: true\n",
    "---"
   ]
  },
  {
   "cell_type": "markdown",
   "metadata": {},
   "source": [
    "# Teaching Heuristics:\n",
    "\n",
    "## Introduction to Heuristics\n",
    "\n",
    "In computer science, **heuristics** are problem-solving techniques that simplify decision-making and find \"good enough\" solutions when an optimal one is too costly or complex to obtain. They play a crucial role in helping solve computational problems efficiently, especially in situations involving large data sets or when optimal solutions are computationally expensive.\n",
    "\n",
    "In the **AP Computer Science A** curriculum, heuristics help students understand and apply efficient problem-solving strategies for a wide range of coding problems.\n",
    "\n",
    "## What is a Heuristic?\n",
    "\n",
    "A **heuristic** is a mental shortcut or rule of thumb used to solve problems. In programming, heuristics help guide decision-making, leading to quicker solutions without the need to explore all possibilities. While heuristics do not guarantee the best solution, they often provide a good-enough answer in a reasonable amount of time.\n",
    "\n",
    "### Examples of Heuristics in Coding\n",
    "\n",
    "1. **Greedy Algorithms**: These algorithms choose the best available option at each step with the hope of reaching a global optimum. A classic example is **Greedy Coin Change**, which picks the highest coin denomination available.\n",
    "\n",
    "2. **Search Algorithms**: In pathfinding problems, heuristics like **Manhattan Distance** or **Euclidean Distance** are used to estimate the distance from the current node to the goal. These help improve search efficiency.\n",
    "\n",
    "3. **Sorting Algorithms**: Some sorting algorithms like **Insertion Sort** are heuristically chosen for small datasets due to their low overhead compared to more complex algorithms like **Merge Sort**.\n",
    "\n",
    "---\n",
    "\n",
    "## The Role of Heuristics in AP Computer Science A\n",
    "\n",
    "In AP Computer Science A, students are introduced to heuristics in the context of algorithms and problem-solving. Here are some ways heuristics come into play:\n",
    "\n",
    "### 1. Sorting Algorithms\n",
    "Heuristics help decide which sorting algorithm to use. For example:\n",
    "- **Insertion Sort** is chosen when dealing with small datasets, as it is simpler and faster for small inputs.\n",
    "- **Merge Sort** or **Quick Sort** is better for larger datasets as they have better time complexity.\n",
    "\n",
    "### 2. Search Algorithms\n",
    "Heuristics like **A* Search Algorithm** combine actual distances and estimated distances (heuristics) to find the shortest path in a graph. The heuristic used helps estimate which path is more likely to lead to the goal efficiently.\n",
    "\n",
    "### 3. Optimization Problems\n",
    "Heuristics are used when solving optimization problems where an exact solution is too slow to compute. For example, in the **Knapsack Problem**, heuristics like the **Greedy Approach** can be used to find an approximation of the optimal solution.\n",
    "\n",
    "---\n",
    "\n",
    "## Setting up a simple popcorn hack with Hueristics"
   ]
  },
  {
   "cell_type": "code",
   "execution_count": 18,
   "metadata": {},
   "outputs": [
    {
     "name": "stdout",
     "output_type": "stream",
     "text": [
      "Total kernels popped: 100\n",
      "Remaining time: 0 seconds\n"
     ]
    }
   ],
   "source": [
    "# Popcorn Hack using Heuristics (Greedy Algorithm)\n",
    "\n",
    "# Function to simulate popcorn popping with a greedy approach\n",
    "def popcorn_popping(time_limit):\n",
    "    # Kernel pop sizes (in seconds to pop a batch of kernels)\n",
    "    batch_sizes = [15, 10, 5]\n",
    "    \n",
    "    # Variable to store the total number of kernels popped\n",
    "    total_kernels_popped = 0\n",
    "    \n",
    "    # Go through the batch sizes in decreasing order (Greedy approach)\n",
    "    for batch_size in batch_sizes:\n",
    "        while time_limit >= batch_size:\n",
    "            total_kernels_popped += batch_size\n",
    "            time_limit -= batch_size\n",
    "    \n",
    "    return total_kernels_popped, time_limit\n",
    "\n",
    "# Set the time limit for popping kernels (in seconds)\n",
    "time_limit = 100\n",
    "\n",
    "# Run the function to see how many kernels can be popped\n",
    "kernels, remaining_time = popcorn_popping(time_limit)\n",
    "\n",
    "# Display the results\n",
    "print(f\"Total kernels popped: {kernels}\")\n",
    "print(f\"Remaining time: {remaining_time} seconds\")\n"
   ]
  },
  {
   "cell_type": "markdown",
   "metadata": {},
   "source": [
    "[![Indiana Jones Leap of Faith](https://images.squarespace-cdn.com/content/v1/5ade2895e2ccd1a1e9ca7abc/1524893252789-D1QTCSB98UL00FY67NX6/stepping.jpg)](https://youtu.be/sBBbq2g7yf8?si=s5vkcz-X65wP0mgH)"
   ]
  }
 ],
 "metadata": {
  "kernelspec": {
   "display_name": "venv",
   "language": "python",
   "name": "python3"
  },
  "language_info": {
   "codemirror_mode": {
    "name": "ipython",
    "version": 3
   },
   "file_extension": ".py",
   "mimetype": "text/x-python",
   "name": "python",
   "nbconvert_exporter": "python",
   "pygments_lexer": "ipython3",
   "version": "3.13.1"
  }
 },
 "nbformat": 4,
 "nbformat_minor": 2
}
