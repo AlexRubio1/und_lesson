{
 "cells": [
  {
   "cell_type": "markdown",
   "metadata": {},
   "source": [
    "---\n",
    "layout: post\n",
    "title: Heurisitics\n",
    "description: Lesson on Heuristics\n",
    "courses: { csp: {week:1} }\n",
    "menu: nav/lessons.html\n",
    "permalink: /lesson/3-2\n",
    "comments: true\n",
    "---"
   ]
  }
 ],
 "metadata": {
  "language_info": {
   "name": "python"
  }
 },
 "nbformat": 4,
 "nbformat_minor": 2
}
